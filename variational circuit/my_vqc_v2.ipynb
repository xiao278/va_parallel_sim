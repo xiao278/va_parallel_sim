{
 "cells": [
  {
   "cell_type": "code",
   "execution_count": 1,
   "metadata": {},
   "outputs": [
    {
     "data": {
      "image/png": "[encoded data removed]",
      "text/plain": [
       "<Figure size 640x480 with 1 Axes>"
      ]
     },
     "metadata": {},
     "output_type": "display_data"
    }
   ],
   "source": [
    "import rustworkx as rx\n",
    "from rustworkx.visualization import mpl_draw as draw_graph\n",
    "import numpy as np\n",
    "\n",
    "n = 5\n",
    "\n",
    "graph = rx.PyGraph()\n",
    "graph.add_nodes_from(np.arange(0, n, 1))\n",
    "# edge_list = [(0, 1, 1.0), (1, 2, 1.0), (2, 3, 1.0), (3, 0, 1.0)]\n",
    "edge_list = [(0, 1, 1.0), (0, 2, 1.0), (0, 4, 1.0), (1, 2, 1.0), (2, 3, 1.0), (3, 4, 1.0)]\n",
    "graph.add_edges_from(edge_list)\n",
    "draw_graph(graph, node_size=600, with_labels=True)"
   ]
  },
  {
   "cell_type": "markdown",
   "metadata": {},
   "source": [
    "# Construct problem in QUBO and converting it to a Hamiltonian"
   ]
  },
  {
   "cell_type": "code",
   "execution_count": 2,
   "metadata": {},
   "outputs": [
    {
     "name": "stdout",
     "output_type": "stream",
     "text": [
      "[('IIIZZ', 1.0), ('IIZIZ', 1.0), ('ZIIIZ', 1.0), ('IIZZI', 1.0), ('IZZII', 1.0), ('ZZIII', 1.0)]\n",
      "Cost Function Hamiltonian: SparsePauliOp(['IIIZZ', 'IIZIZ', 'ZIIIZ', 'IIZZI', 'IZZII', 'ZZIII'],\n",
      "              coeffs=[1.+0.j, 1.+0.j, 1.+0.j, 1.+0.j, 1.+0.j, 1.+0.j])\n"
     ]
    }
   ],
   "source": [
    "from qiskit.quantum_info import SparsePauliOp\n",
    "def build_max_cut_paulis(graph: rx.PyGraph) -> list[tuple[str, float]]:\n",
    "    \"\"\"Convert the graph to Pauli list.\n",
    "\n",
    "    This function does the inverse of `build_max_cut_graph`\n",
    "    \"\"\"\n",
    "    pauli_list = []\n",
    "    for edge in list(graph.edge_list()):\n",
    "        paulis = [\"I\"] * len(graph)\n",
    "        paulis[edge[0]], paulis[edge[1]] = \"Z\", \"Z\"\n",
    "\n",
    "        weight = graph.get_edge_data(edge[0], edge[1])\n",
    "\n",
    "        pauli_list.append((\"\".join(paulis)[::-1], weight))\n",
    "\n",
    "    return pauli_list\n",
    "\n",
    "max_cut_paulis = build_max_cut_paulis(graph)\n",
    "\n",
    "print(max_cut_paulis)\n",
    "\n",
    "cost_hamiltonian = SparsePauliOp.from_list(max_cut_paulis)\n",
    "print(\"Cost Function Hamiltonian:\", cost_hamiltonian)"
   ]
  },
  {
   "cell_type": "markdown",
   "metadata": {},
   "source": [
    "# checking for hamiltonian implementation parity"
   ]
  },
  {
   "cell_type": "code",
   "execution_count": 3,
   "metadata": {},
   "outputs": [
    {
     "name": "stdout",
     "output_type": "stream",
     "text": [
      "maximum difference between hamiltonians\n",
      "3.33066907387547e-16\n"
     ]
    }
   ],
   "source": [
    "from qiskit.circuit.library import QAOAAnsatz\n",
    "from qiskit.quantum_info import Statevector\n",
    "from qiskit import *\n",
    "\n",
    "# import tensorsim\n",
    "import sys\n",
    "import os\n",
    "sys.path.append(os.path.abspath(os.path.join(os.getcwd(), '../tensor_method_w2')))\n",
    "\n",
    "from tensor_sim import TensorSim\n",
    "from gate_sim_gates import *\n",
    "\n",
    "# check hamiltonian from qiskit\n",
    "qc = QuantumCircuit(n)\n",
    "qc.h(0)\n",
    "qc.h(1)\n",
    "qc.h(2)\n",
    "qc.h(3)\n",
    "qc.h(4)\n",
    "initial_state = Statevector.from_instruction(qc)\n",
    "transformed_state = cost_hamiltonian.to_matrix() @ initial_state.data\n",
    "# print(\"Transformed Statevector (via H):\")\n",
    "# print(transformed_state)\n",
    "\n",
    "# check my circuit\n",
    "myqc = TensorSim(\"00000\")\n",
    "myqc.apply_1q_gate(H, 0)\n",
    "myqc.apply_1q_gate(H, 1)\n",
    "myqc.apply_1q_gate(H, 2)\n",
    "myqc.apply_1q_gate(H, 3)\n",
    "myqc.apply_1q_gate(H, 4)\n",
    "myqc.apply_hamiltonian_from_list(max_cut_paulis)\n",
    "my_transformed_state = myqc.get_state_vector()\n",
    "\n",
    "print(\"maximum difference between hamiltonians\")\n",
    "print(np.max(np.abs(my_transformed_state - transformed_state)))"
   ]
  },
  {
   "cell_type": "markdown",
   "metadata": {},
   "source": [
    "# create a QAOA circuit"
   ]
  },
  {
   "cell_type": "code",
   "execution_count": null,
   "metadata": {},
   "outputs": [
    {
     "name": "stdout",
     "output_type": "stream",
     "text": [
      "Final state amplitudes:\n",
      "|00000⟩: 0.75*sqrt(2)\n",
      "|00010⟩: 0.25*sqrt(2)\n",
      "|00101⟩: -0.25*sqrt(2)\n",
      "|00111⟩: 0.25*sqrt(2)\n",
      "|01000⟩: 0.25*sqrt(2)\n",
      "|01001⟩: -0.5*sqrt(2)\n",
      "|01010⟩: -0.25*sqrt(2)\n",
      "|01011⟩: -0.5*sqrt(2)\n",
      "|01101⟩: -0.25*sqrt(2)\n",
      "|01111⟩: 0.25*sqrt(2)\n",
      "|10000⟩: 0.25*sqrt(2)\n",
      "|10010⟩: -0.25*sqrt(2)\n",
      "|10100⟩: -0.5*sqrt(2)\n",
      "|10101⟩: -0.25*sqrt(2)\n",
      "|10110⟩: -0.5*sqrt(2)\n",
      "|10111⟩: 0.25*sqrt(2)\n",
      "|11000⟩: 0.25*sqrt(2)\n",
      "|11010⟩: -0.25*sqrt(2)\n",
      "|11101⟩: 0.25*sqrt(2)\n",
      "|11111⟩: 0.75*sqrt(2)\n",
      "\n",
      "Final state probabilities:\n",
      "|00000⟩: 1.12500000000000\n",
      "|00010⟩: 0.125000000000000\n",
      "|00101⟩: 0.125000000000000\n",
      "|00111⟩: 0.125000000000000\n",
      "|01000⟩: 0.125000000000000\n",
      "|01001⟩: 0.500000000000000\n",
      "|01010⟩: 0.125000000000000\n",
      "|01011⟩: 0.500000000000000\n",
      "|01101⟩: 0.125000000000000\n",
      "|01111⟩: 0.125000000000000\n",
      "|10000⟩: 0.125000000000000\n",
      "|10010⟩: 0.125000000000000\n",
      "|10100⟩: 0.500000000000000\n",
      "|10101⟩: 0.125000000000000\n",
      "|10110⟩: 0.500000000000000\n",
      "|10111⟩: 0.125000000000000\n",
      "|11000⟩: 0.125000000000000\n",
      "|11010⟩: 0.125000000000000\n",
      "|11101⟩: 0.125000000000000\n",
      "|11111⟩: 1.12500000000000\n",
      "\n",
      "Normalization check (should be 1): 6.00000000000000\n"
     ]
    }
   ],
   "source": [
    "def construct_qc()"
   ]
  }
 ],
 "metadata": {
  "kernelspec": {
   "display_name": "Python 3",
   "language": "python",
   "name": "python3"
  },
  "language_info": {
   "codemirror_mode": {
    "name": "ipython",
    "version": 3
   },
   "file_extension": ".py",
   "mimetype": "text/x-python",
   "name": "python",
   "nbconvert_exporter": "python",
   "pygments_lexer": "ipython3",
   "version": "3.11.10"
  }
 },
 "nbformat": 4,
 "nbformat_minor": 2
}
