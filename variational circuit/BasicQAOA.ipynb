{
 "cells": [
  {
   "cell_type": "code",
   "execution_count": 37,
   "metadata": {},
   "outputs": [],
   "source": [
    "import numpy as np\n",
    "import psutil\n",
    "import os"
   ]
  },
  {
   "cell_type": "code",
   "execution_count": 38,
   "metadata": {},
   "outputs": [],
   "source": [
    "n = 2"
   ]
  },
  {
   "cell_type": "code",
   "execution_count": 39,
   "metadata": {},
   "outputs": [],
   "source": [
    "zero = np.array([1, 0], dtype=complex)\n",
    "one = np.array([0, 1], dtype=complex)\n",
    "\n",
    "H = (1 / np.sqrt(2)) * np.array([[1, 1],\n",
    "                                  [1, -1]], dtype=complex)\n",
    "\n",
    "I = np.array(\n",
    "    [[1,0],\n",
    "     [0,1]]\n",
    ")\n",
    "\n",
    "X = np.array([[0, 1],\n",
    "              [1, 0]], dtype=complex)\n",
    "\n",
    "Y = np.array([[0, -1j],\n",
    "              [1j, 0]], dtype=complex)\n",
    "\n",
    "Z = np.array([[1, 0],\n",
    "              [0, -1]], dtype=complex)\n",
    "\n",
    "def Rx(theta):\n",
    "    cos = np.cos(theta / 2)\n",
    "    isin = -1j * np.sin(theta / 2)\n",
    "    return np.array([[cos, isin],\n",
    "                     [isin, cos]], dtype=complex)\n",
    "\n",
    "def Rz(theta):\n",
    "    exp_plus = np.exp(-1j * theta / 2)\n",
    "    exp_minus = np.exp(1j * theta / 2)\n",
    "    return np.array([[exp_plus, 0],\n",
    "                     [0, exp_minus]], dtype=complex)\n",
    "\n",
    "def Rzz(theta):\n",
    "    exp_00 = np.exp(-1j * theta / 2)\n",
    "    exp_11 = np.exp(-1j * theta / 2)\n",
    "    exp_01 = np.exp(1j * theta / 2)\n",
    "    exp_10 = np.exp(1j * theta / 2)\n",
    "\n",
    "    RZZ = np.array([[exp_00, 0,      0,      0],\n",
    "                    [0,      exp_01, 0,      0],\n",
    "                    [0,      0,      exp_10, 0],\n",
    "                    [0,      0,      0,      exp_11]], dtype=complex)\n",
    "    return RZZ"
   ]
  },
  {
   "cell_type": "code",
   "execution_count": 40,
   "metadata": {},
   "outputs": [],
   "source": [
    "def initialize_state(n, state_vector=None):\n",
    "    if state_vector is not None:\n",
    "        if len(state_vector) != 2**n:\n",
    "            raise ValueError(\"State vector length does not match number of qubits.\")\n",
    "        state = state_vector.reshape([2]*n)\n",
    "    else:\n",
    "        state = zero\n",
    "        for _ in range(n - 1):\n",
    "            state = np.tensordot(state, zero, axes=0)\n",
    "    return state\n",
    "\n",
    "def apply_single_qubit_gate(state, gate, target):\n",
    "    n_qubits = state.ndim\n",
    "    state = np.moveaxis(state, target, 0)\n",
    "    state = np.tensordot(gate, state, axes=([1], [0]))\n",
    "    state = np.moveaxis(state, 0, target)\n",
    "    return state\n",
    "\n",
    "def apply_two_qubit_gate(state, gate, qubit1, qubit2):\n",
    "    n_qubits = state.ndim\n",
    "    permute_order = [qubit1, qubit2] + [i for i in range(n_qubits) if i != qubit1 and i != qubit2]\n",
    "    state = np.transpose(state, permute_order)\n",
    "    original_shape = state.shape\n",
    "    state = state.reshape(4, -1)\n",
    "    state = np.tensordot(gate, state, axes=([1], [0]))\n",
    "    state = state.reshape([2, 2] + list(original_shape[2:]))\n",
    "    inverse_permute_order = np.argsort(permute_order)\n",
    "    state = np.transpose(state, inverse_permute_order)\n",
    "    return state\n",
    "\n",
    "def apply_hamiltonian_from_list(state:np.ndarray, pauli_list:list[tuple]):\n",
    "        # accept this form:\n",
    "        # [('IIIZZ', 1.0), ('IIZIZ', 1.0), ('ZIIIZ', 1.0), ('IIZZI', 1.0), ('IZZII', 1.0), ('ZZIII', 1.0)]\n",
    "\n",
    "        # sum hamiltonian terms over the new state\n",
    "        new_state = np.zeros(shape=state.shape, dtype=object)\n",
    "\n",
    "        def get_gate(gate_str:str):\n",
    "            if gate_str == 'I':\n",
    "                return I\n",
    "            if gate_str == 'Z':\n",
    "                return Z\n",
    "            raise Exception(\"No gate with name '{gate_str}'\")\n",
    "\n",
    "        def apply_hamiltonian_terms(term):\n",
    "            gates, weights = term\n",
    "            gate_indices = []\n",
    "            combined_gate = np.array([[1]], dtype=object)\n",
    "            for index in range(len(gates)):\n",
    "                gate_str = gates[index]\n",
    "                if gate_str == 'I':\n",
    "                    continue\n",
    "                gate_indices.append(index)\n",
    "                combined_gate = np.kron(combined_gate, get_gate(gate_str))\n",
    "            # indices not used in the gate\n",
    "            # other_indices =  [i for i in range(len(self.state.shape)) if i not in gate_indices]\n",
    "            # indices to swap with gate_indices\n",
    "            used_indices = [i for i in range(len(gate_indices))]\n",
    "            permuted_state = np.moveaxis(state, gate_indices, used_indices)\n",
    "            reshaped_state = permuted_state.reshape(2 ** len(gate_indices), -1)\n",
    "            updated_state = combined_gate @ reshaped_state \n",
    "            updated_state = updated_state.reshape(*(2,) * len(gate_indices), *permuted_state.shape[len(gate_indices):])\n",
    "            updated_state = np.moveaxis(updated_state, used_indices, gate_indices)\n",
    "            return updated_state * weights\n",
    "\n",
    "        for term in pauli_list:\n",
    "            term_state = apply_hamiltonian_terms(term)\n",
    "            new_state += term_state\n",
    "        return new_state\n",
    "\n",
    "def create_cnot_gate():\n",
    "    CNOT = np.array([[1, 0, 0, 0],\n",
    "                     [0, 1, 0, 0],\n",
    "                     [0, 0, 0, 1],\n",
    "                     [0, 0, 1, 0]], dtype=complex)\n",
    "    return CNOT"
   ]
  },
  {
   "cell_type": "code",
   "execution_count": 41,
   "metadata": {},
   "outputs": [],
   "source": [
    "def qaoa_circuit_general(gamma_list, beta_list):\n",
    "    # n = 2\n",
    "    p = len(gamma_list)  # Number of QAOA layers\n",
    "\n",
    "    state = initialize_state(n)\n",
    "\n",
    "    # Apply Hadamard gates to all qubits\n",
    "    for qubit in range(n):\n",
    "        state = apply_single_qubit_gate(state, H, target=qubit)\n",
    "\n",
    "    for layer in range(p):\n",
    "        gamma = gamma_list[layer]\n",
    "        beta = beta_list[layer]\n",
    "\n",
    "        # Cost Hamiltonian evolution\n",
    "        RZ_gate = Rz(2 * gamma)\n",
    "        RZZ_gate = Rzz(2 * gamma)\n",
    "        state = apply_single_qubit_gate(state, RZ_gate, 0)\n",
    "        state = apply_single_qubit_gate(state, RZ_gate, 1)\n",
    "        state = apply_two_qubit_gate(state, RZZ_gate, 0, 1)\n",
    "\n",
    "        # Mixer Hamiltonian evolution\n",
    "        for qubit in range(n):\n",
    "            Rx_gate = Rx(2 * beta)\n",
    "            state = apply_single_qubit_gate(state, Rx_gate, target=qubit)\n",
    "\n",
    "    return state"
   ]
  },
  {
   "cell_type": "markdown",
   "metadata": {},
   "source": [
    "# create hamiltonian"
   ]
  },
  {
   "cell_type": "code",
   "execution_count": 42,
   "metadata": {},
   "outputs": [],
   "source": [
    "from qiskit.quantum_info import SparsePauliOp\n",
    "\n",
    "# for \n",
    "# Min (-x0-x1)\n",
    "# Subj x0+x1<=1\n",
    "\n",
    "def build_max_cut_paulis() -> list[tuple[str, float]]:\n",
    "    \"\"\"Convert the graph to Pauli list.\n",
    "\n",
    "    This function does the inverse of `build_max_cut_graph`\n",
    "    \"\"\"\n",
    "\n",
    "    lamda = 2\n",
    "\n",
    "    pauli_list = [\n",
    "        (\"ZI\", -1 - lamda),\n",
    "        (\"IZ\", -1 - lamda),\n",
    "        (\"ZZ\", 2 * lamda)    \n",
    "    ]\n",
    "    \n",
    "    return pauli_list\n",
    "\n",
    "max_cut_paulis = build_max_cut_paulis()"
   ]
  },
  {
   "cell_type": "code",
   "execution_count": 43,
   "metadata": {},
   "outputs": [
    {
     "name": "stdout",
     "output_type": "stream",
     "text": [
      "Optimal parameters: [2.35466837 1.17845628 0.78296789 0.78546513]\n",
      "Minimum value of objective function: -3.999987791340471\n"
     ]
    }
   ],
   "source": [
    "import optuna\n",
    "from scipy.optimize import minimize\n",
    "\n",
    "iter_energy = []\n",
    "\n",
    "def objective(params):\n",
    "    gamma_0, gamma_1, beta_0, beta_1 = params\n",
    "    gamma_list = [gamma_0, gamma_1]\n",
    "    beta_list = [beta_0, beta_1]\n",
    "    final_state = qaoa_circuit_general(gamma_list, beta_list)\n",
    "    phi_state = apply_hamiltonian_from_list(final_state, max_cut_paulis)\n",
    "    energy = np.vdot(final_state.reshape(-1), phi_state.reshape(-1)).real\n",
    "    iter_energy.append(energy)\n",
    "    return energy\n",
    "    \n",
    "result = minimize(\n",
    "    objective,              # Objective function\n",
    "    [np.pi / 4, np.pi / 4, np.pi / 8, np.pi / 8],          # Initial guess for the parameters\n",
    "    method='COBYLA',      # Optimization method\n",
    "    bounds=[(0, 2 * np.pi), (0, 2 * np.pi), (0, 2 * np.pi), (0, 2 * np.pi)],  # Optional bounds on x and y\n",
    "    tol=1e-4\n",
    ")\n",
    "\n",
    "print(\"Optimal parameters:\", result.x)\n",
    "print(\"Minimum value of objective function:\", result.fun)\n",
    "\n",
    "gamma_0, gamma_1, beta_0, beta_1 = result.x\n",
    "\n",
    "gamma_list = [gamma_0, gamma_1]\n",
    "beta_list = [beta_0, beta_1]\n",
    "\n",
    "final_state = qaoa_circuit_general(gamma_list, beta_list).reshape(-1)\n",
    "final_state_probabilities = np.abs(final_state) ** 2\n",
    "\n",
    "final_distribution_int = {state_int: final_state_probabilities[state_int] for state_int in range(len(final_state_probabilities))}\n",
    "final_distribution_bin = {format(state_int, '0%db' % n): final_state_probabilities[state_int] for state_int in range(len(final_state_probabilities))}"
   ]
  },
  {
   "cell_type": "code",
   "execution_count": 44,
   "metadata": {},
   "outputs": [
    {
     "data": {
      "image/png": "[encoded data removed]",
      "text/plain": [
       "<Figure size 1200x600 with 1 Axes>"
      ]
     },
     "metadata": {},
     "output_type": "display_data"
    }
   ],
   "source": [
    "import matplotlib.pyplot as plt\n",
    "\n",
    "plt.figure(figsize=(12, 6))\n",
    "plt.plot(iter_energy)\n",
    "plt.xlabel(\"Iteration\")\n",
    "plt.ylabel(\"Energy\")\n",
    "plt.show()"
   ]
  },
  {
   "cell_type": "code",
   "execution_count": 45,
   "metadata": {},
   "outputs": [
    {
     "name": "stdout",
     "output_type": "stream",
     "text": [
      "Result bitstring: [0, 1]\n"
     ]
    },
    {
     "data": {
      "text/plain": [
       "<BarContainer object of 4 artists>"
      ]
     },
     "execution_count": 45,
     "metadata": {},
     "output_type": "execute_result"
    },
    {
     "data": {
      "image/png": "[encoded data removed]",
      "text/plain": [
       "<Figure size 1100x600 with 1 Axes>"
      ]
     },
     "metadata": {},
     "output_type": "display_data"
    }
   ],
   "source": [
    "import matplotlib\n",
    "\n",
    "def to_bitstring(integer, num_bits):\n",
    "    result = np.binary_repr(integer, width=num_bits)\n",
    "    return [int(digit) for digit in result]\n",
    "\n",
    "keys = list(final_distribution_int.keys())\n",
    "values = list(final_distribution_int.values())\n",
    "most_likely = keys[np.argmax(np.abs(values))]\n",
    "most_likely_bitstring = to_bitstring(most_likely, n)\n",
    "\n",
    "print(\"Result bitstring:\", most_likely_bitstring)\n",
    "\n",
    "matplotlib.rcParams.update({\"font.size\": 10})\n",
    "final_bits = final_distribution_bin\n",
    "values = np.abs(list(final_bits.values()))\n",
    "positions = []\n",
    "fig = plt.figure(figsize=(11, 6))\n",
    "ax = fig.add_subplot(1, 1, 1)\n",
    "plt.xticks(rotation=45)\n",
    "plt.title(\"Result Distribution\")\n",
    "plt.xlabel(\"Bitstrings\")\n",
    "plt.ylabel(\"Probability\")\n",
    "ax.bar(list(final_bits.keys()), list(final_bits.values()), color=\"tab:grey\")"
   ]
  }
 ],
 "metadata": {
  "kernelspec": {
   "display_name": "Python 3",
   "language": "python",
   "name": "python3"
  },
  "language_info": {
   "codemirror_mode": {
    "name": "ipython",
    "version": 3
   },
   "file_extension": ".py",
   "mimetype": "text/x-python",
   "name": "python",
   "nbconvert_exporter": "python",
   "pygments_lexer": "ipython3",
   "version": "3.11.10"
  }
 },
 "nbformat": 4,
 "nbformat_minor": 2
}
