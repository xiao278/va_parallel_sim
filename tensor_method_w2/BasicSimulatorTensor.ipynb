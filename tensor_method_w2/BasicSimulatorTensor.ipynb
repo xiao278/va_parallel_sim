{
 "cells": [
  {
   "cell_type": "code",
   "execution_count": 2,
   "metadata": {},
   "outputs": [],
   "source": [
    "import numpy as np\n",
    "import psutil\n",
    "import os"
   ]
  },
  {
   "cell_type": "code",
   "execution_count": 3,
   "metadata": {},
   "outputs": [],
   "source": [
    "zero = np.array([1, 0], dtype=complex)\n",
    "one = np.array([0, 1], dtype=complex)\n",
    "\n",
    "H = (1 / np.sqrt(2)) * np.array([[1, 1],\n",
    "                                  [1, -1]], dtype=complex)\n",
    "\n",
    "X = np.array([[0, 1],\n",
    "              [1, 0]], dtype=complex)\n",
    "\n",
    "Y = np.array([[0, -1j],\n",
    "              [1j, 0]], dtype=complex)\n",
    "\n",
    "Z = np.array([[1, 0],\n",
    "              [0, -1]], dtype=complex)\n",
    "\n",
    "def Rx(theta):\n",
    "    cos = np.cos(theta / 2)\n",
    "    isin = -1j * np.sin(theta / 2)\n",
    "    return np.array([[cos, isin],\n",
    "                     [isin, cos]], dtype=complex)\n",
    "\n",
    "def Rz(theta):\n",
    "    exp_plus = np.exp(-1j * theta / 2)\n",
    "    exp_minus = np.exp(1j * theta / 2)\n",
    "    return np.array([[exp_plus, 0],\n",
    "                     [0, exp_minus]], dtype=complex)\n",
    "\n",
    "def Rzz(theta):\n",
    "    exp_00 = np.exp(-1j * theta / 2)\n",
    "    exp_11 = np.exp(-1j * theta / 2)\n",
    "    exp_01 = np.exp(1j * theta / 2)\n",
    "    exp_10 = np.exp(1j * theta / 2)\n",
    "\n",
    "    RZZ = np.array([[exp_00, 0,      0,      0],\n",
    "                    [0,      exp_01, 0,      0],\n",
    "                    [0,      0,      exp_10, 0],\n",
    "                    [0,      0,      0,      exp_11]], dtype=complex)\n",
    "    return RZZ"
   ]
  },
  {
   "cell_type": "code",
   "execution_count": 4,
   "metadata": {},
   "outputs": [],
   "source": [
    "def initialize_state(n, state_vector=None):\n",
    "    if state_vector is not None:\n",
    "        if len(state_vector) != 2**n:\n",
    "            raise ValueError(\"State vector length does not match number of qubits.\")\n",
    "        state = state_vector.reshape([2]*n)\n",
    "    else:\n",
    "        state = zero\n",
    "        for _ in range(n - 1):\n",
    "            state = np.tensordot(state, zero, axes=0)\n",
    "    return state\n",
    "\n",
    "def apply_single_qubit_gate(state, gate, target):\n",
    "    n_qubits = state.ndim\n",
    "    state = np.moveaxis(state, target, 0)\n",
    "    state = np.tensordot(gate, state, axes=([1], [0]))\n",
    "    state = np.moveaxis(state, 0, target)\n",
    "    return state\n",
    "\n",
    "def apply_two_qubit_gate(state, gate, qubit1, qubit2):\n",
    "    n_qubits = state.ndim\n",
    "    permute_order = [qubit1, qubit2] + [i for i in range(n_qubits) if i != qubit1 and i != qubit2]\n",
    "    state = np.transpose(state, permute_order)\n",
    "    original_shape = state.shape\n",
    "    state = state.reshape(4, -1)\n",
    "    state = np.tensordot(gate, state, axes=([1], [0]))\n",
    "    state = state.reshape([2, 2] + list(original_shape[2:]))\n",
    "    inverse_permute_order = np.argsort(permute_order)\n",
    "    state = np.transpose(state, inverse_permute_order)\n",
    "    return state\n",
    "\n",
    "def create_cnot_gate():\n",
    "    CNOT = np.array([[1, 0, 0, 0],\n",
    "                     [0, 1, 0, 0],\n",
    "                     [0, 0, 0, 1],\n",
    "                     [0, 0, 1, 0]], dtype=complex)\n",
    "    return CNOT"
   ]
  },
  {
   "cell_type": "code",
   "execution_count": 5,
   "metadata": {},
   "outputs": [
    {
     "name": "stdout",
     "output_type": "stream",
     "text": [
      "Final state amplitudes:\n",
      "|00⟩: (0.4999999999999999+0j)\n",
      "|01⟩: (0.4999999999999999+0j)\n",
      "|10⟩: (0.4999999999999999+0j)\n",
      "|11⟩: (0.4999999999999999+0j)\n",
      "\n",
      "Normalization check (should be 1): 0.9999999999999996\n"
     ]
    }
   ],
   "source": [
    "n = 2\n",
    "state = initialize_state(n)\n",
    "\n",
    "for i in range(n):\n",
    "    state = apply_single_qubit_gate(state, H, i)\n",
    "\n",
    "#CNOT_gate = create_cnot_gate()\n",
    "#state = apply_two_qubit_gate(state, CNOT_gate, qubit1=0, qubit2=1)\n",
    "\n",
    "#state = apply_two_qubit_gate(state, CNOT_gate, qubit1=1, qubit2=2)\n",
    "\n",
    "state_vector = state.reshape(-1)\n",
    "\n",
    "states = [f\"|{bin(i)[2:].zfill(n)}⟩\" for i in range(2**n)]\n",
    "\n",
    "print(\"Final state amplitudes:\")\n",
    "for idx, amplitude in enumerate(state_vector):\n",
    "    print(f'{states[idx]}: {amplitude}')\n",
    "\n",
    "norm = np.sum(np.abs(state_vector)**2)\n",
    "print(f'\\nNormalization check (should be 1): {norm}')\n"
   ]
  },
  {
   "cell_type": "code",
   "execution_count": 6,
   "metadata": {},
   "outputs": [],
   "source": [
    "def qaoa_circuit_general(graph_edges, gamma_list, beta_list):\n",
    "    n = max(max(edge) for edge in graph_edges) + 1  # Number of qubits\n",
    "    p = len(gamma_list)  # Number of QAOA layers\n",
    "\n",
    "    state = initialize_state(n)\n",
    "\n",
    "    # Apply Hadamard gates to all qubits\n",
    "    for qubit in range(n):\n",
    "        state = apply_single_qubit_gate(state, H, target=qubit)\n",
    "\n",
    "    for layer in range(p):\n",
    "        gamma = gamma_list[layer]\n",
    "        beta = beta_list[layer]\n",
    "\n",
    "        # Cost Hamiltonian evolution\n",
    "        for edge in graph_edges:\n",
    "            qubit1, qubit2 = edge\n",
    "            RZZ_gate = Rzz(2 * gamma)\n",
    "            state = apply_two_qubit_gate(state, RZZ_gate, qubit1, qubit2)\n",
    "\n",
    "        # Mixer Hamiltonian evolution\n",
    "        for qubit in range(n):\n",
    "            Rx_gate = Rx(2 * beta)\n",
    "            state = apply_single_qubit_gate(state, Rx_gate, target=qubit)\n",
    "\n",
    "    return state"
   ]
  },
  {
   "cell_type": "code",
   "execution_count": 1,
   "metadata": {},
   "outputs": [
    {
     "ename": "NameError",
     "evalue": "name 'np' is not defined",
     "output_type": "error",
     "traceback": [
      "\u001b[0;31m---------------------------------------------------------------------------\u001b[0m",
      "\u001b[0;31mNameError\u001b[0m                                 Traceback (most recent call last)",
      "Cell \u001b[0;32mIn[1], line 5\u001b[0m\n\u001b[1;32m      2\u001b[0m graph_edges \u001b[38;5;241m=\u001b[39m [(\u001b[38;5;241m0\u001b[39m, \u001b[38;5;241m1\u001b[39m), (\u001b[38;5;241m1\u001b[39m, \u001b[38;5;241m2\u001b[39m), (\u001b[38;5;241m2\u001b[39m, \u001b[38;5;241m0\u001b[39m)]\n\u001b[1;32m      4\u001b[0m \u001b[38;5;66;03m# QAOA parameters for each layer\u001b[39;00m\n\u001b[0;32m----> 5\u001b[0m gamma_list \u001b[38;5;241m=\u001b[39m [\u001b[43mnp\u001b[49m\u001b[38;5;241m.\u001b[39mpi \u001b[38;5;241m/\u001b[39m \u001b[38;5;241m4\u001b[39m, np\u001b[38;5;241m.\u001b[39mpi \u001b[38;5;241m/\u001b[39m \u001b[38;5;241m4\u001b[39m]\n\u001b[1;32m      6\u001b[0m beta_list \u001b[38;5;241m=\u001b[39m [np\u001b[38;5;241m.\u001b[39mpi \u001b[38;5;241m/\u001b[39m \u001b[38;5;241m8\u001b[39m, np\u001b[38;5;241m.\u001b[39mpi \u001b[38;5;241m/\u001b[39m \u001b[38;5;241m8\u001b[39m]\n\u001b[1;32m      8\u001b[0m \u001b[38;5;66;03m# Run the QAOA circuit\u001b[39;00m\n",
      "\u001b[0;31mNameError\u001b[0m: name 'np' is not defined"
     ]
    }
   ],
   "source": [
    "# Define the edges of the graph (e.g., a triangle)\n",
    "graph_edges = [(0, 1), (1, 2), (2, 0)]\n",
    "\n",
    "# QAOA parameters for each layer\n",
    "gamma_list = [np.pi / 4, np.pi / 4]\n",
    "beta_list = [np.pi / 8, np.pi / 8]\n",
    "\n",
    "# Run the QAOA circuit\n",
    "final_state = qaoa_circuit_general(graph_edges, gamma_list, beta_list)\n",
    "\n",
    "# Reshape and display the final state\n",
    "n = 3  # Number of qubits\n",
    "state_vector = final_state.reshape(-1)\n",
    "states = [f\"|{bin(i)[2:].zfill(n)}⟩\" for i in range(2**n)]\n",
    "\n",
    "print(\"Final state amplitudes:\")\n",
    "for idx, amplitude in enumerate(state_vector):\n",
    "    print(f'{states[idx]}: {amplitude} probability {np.abs(amplitude)**2}')\n",
    "\n",
    "norm = np.sum(np.abs(state_vector)**2)\n",
    "print(f'\\nNormalization check (should be 1): {norm}')\n"
   ]
  }
 ],
 "metadata": {
  "kernelspec": {
   "display_name": "Python 3",
   "language": "python",
   "name": "python3"
  },
  "language_info": {
   "codemirror_mode": {
    "name": "ipython",
    "version": 3
   },
   "file_extension": ".py",
   "mimetype": "text/x-python",
   "name": "python",
   "nbconvert_exporter": "python",
   "pygments_lexer": "ipython3",
   "version": "3.11.10"
  }
 },
 "nbformat": 4,
 "nbformat_minor": 2
}
